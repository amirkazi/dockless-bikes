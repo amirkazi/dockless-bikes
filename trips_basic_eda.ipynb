{
 "cells": [
  {
   "cell_type": "markdown",
   "metadata": {},
   "source": [
    "The below file reads in 9 csv files into pandas dataframes,\n",
    "    prints number of rows and columns in each dataframe,\n",
    "    prints the column names for each dataframe,\n",
    "    prints individual and total number of rides\n",
    "    prints number of bikes belonging to each company,\n",
    "    prints average ride distance per company (in feet)\n",
    "    plots starting & ending latitude and longitude for each bike read for each company"
   ]
  },
  {
   "cell_type": "markdown",
   "metadata": {},
   "source": [
    "### Exploratory Data Analysis of Bike Trips Pilot\n",
    "\n"
   ]
  },
  {
   "cell_type": "code",
   "execution_count": null,
   "metadata": {},
   "outputs": [],
   "source": [
    "import pandas as pd\n",
    "import seaborn as sns\n",
    "import matplotlib.pyplot as plt\n",
    "\n",
    "%matplotlib inline"
   ]
  },
  {
   "cell_type": "markdown",
   "metadata": {},
   "source": [
    "#### Loading CSVs into Dataframe"
   ]
  },
  {
   "cell_type": "code",
   "execution_count": null,
   "metadata": {},
   "outputs": [],
   "source": [
    "def read_csv (input_file):\n",
    "    '''\n",
    "    Reads CSV file and returns pandas dataframe\n",
    "    '''\n",
    "    return pd.read_csv(input_file)"
   ]
  },
  {
   "cell_type": "code",
   "execution_count": null,
   "metadata": {},
   "outputs": [],
   "source": [
    "lime_customer = read_csv('Lime_May Customer Report.csv')\n",
    "lime_maintenance = read_csv('Lime_May Maintenance.csv')\n",
    "lime_trips = read_csv('Lime_May Trips.csv')\n",
    "\n",
    "ofo_customer = read_csv('ofo-reports-06112018.csv')\n",
    "ofo_maintenance = read_csv('ofo-maintenance-06112018.csv')\n",
    "ofo_trips = read_csv('ofo-trips-06112018.csv')\n",
    "\n",
    "\n",
    "zagster_customer = read_csv('zagster-reports-201805.csv')\n",
    "zagster_maintenance = read_csv('zagster-maintenance-201805.csv')\n",
    "zagster_trips = read_csv('zagster-trips-201805.csv')"
   ]
  },
  {
   "cell_type": "code",
   "execution_count": null,
   "metadata": {},
   "outputs": [],
   "source": [
    "list_of_dataframes = [lime_customer, lime_maintenance, lime_trips, ofo_customer, \n",
    "                      ofo_maintenance, ofo_trips, zagster_customer, zagster_maintenance, zagster_trips]\n",
    "\n",
    "string_list_of_dataframes = ['lime_customer', 'lime_maintenance', 'lime_trips', 'ofo_customer', \n",
    "                      'ofo_maintenance', 'ofo_trips', 'zagster_customer', 'zagster_maintenance', 'zagster_trips']"
   ]
  },
  {
   "cell_type": "markdown",
   "metadata": {},
   "source": [
    "##### Basic Exploration of All Dataframes"
   ]
  },
  {
   "cell_type": "code",
   "execution_count": null,
   "metadata": {},
   "outputs": [],
   "source": [
    "def info (df):\n",
    "    '''\n",
    "    Given a dataframe, prints information of the dataset\n",
    "        \n",
    "    input:\n",
    "        dataframe\n",
    "    '''\n",
    "    print ('DATASET INFORMATION \\n') \n",
    "    print (df.info(), '\\n \\n \\n')\n"
   ]
  },
  {
   "cell_type": "code",
   "execution_count": null,
   "metadata": {},
   "outputs": [],
   "source": [
    "# number of rows and columns excluding header and index\n",
    "\n",
    "for count, item in enumerate(string_list_of_dataframes):\n",
    "    print (item)\n",
    "    print ('{}{:>30}'.format('NUMBER OF ROWS', 'NUMBER OF COLUMNS'))\n",
    "    print ('{}{:>30}'.format(list_of_dataframes[count].shape[0] , list_of_dataframes[count].shape[1]))\n",
    "    print ('')\n"
   ]
  },
  {
   "cell_type": "code",
   "execution_count": null,
   "metadata": {},
   "outputs": [],
   "source": [
    "# column names in each dataframe\n",
    "\n",
    "for count, item in enumerate(string_list_of_dataframes):\n",
    "    print (item)\n",
    "    print (list_of_dataframes[count].columns)\n",
    "    print ()"
   ]
  },
  {
   "cell_type": "markdown",
   "metadata": {},
   "source": [
    "Questions:\n",
    "\n",
    "- Total Number of Rides\n",
    "- Rides by each company\n",
    "- Average ride distance\n",
    "- Number of bikes of each company\n"
   ]
  },
  {
   "cell_type": "code",
   "execution_count": null,
   "metadata": {},
   "outputs": [],
   "source": [
    "num_lime_trip = lime_trips['TRIP_ID'].nunique() \n",
    "num_ofo_trip = ofo_trips['Trip ID'].nunique() \n",
    "num_zagster_trips = zagster_trips['Trip ID'].nunique() \n",
    "\n",
    "total_ride_count = num_lime_trip + num_ofo_trip + num_zagster_trips\n",
    "\n",
    "print (num_lime_trip)\n",
    "print (num_ofo_trip)\n",
    "print (num_zagster_trips)\n",
    "print (total_ride_count)"
   ]
  },
  {
   "cell_type": "code",
   "execution_count": null,
   "metadata": {},
   "outputs": [],
   "source": [
    "# Average distance (in feet) of each bike ride by company\n",
    "print (lime_trips['DISTANCE_FEET'].mean())\n",
    "print (ofo_trips['Trip Distance'].mean())\n",
    "print (zagster_trips['Trip Distance'].mean())"
   ]
  },
  {
   "cell_type": "code",
   "execution_count": null,
   "metadata": {},
   "outputs": [],
   "source": [
    "# Number of bikes per company\n",
    "print (lime_trips['BIKE_ID'].nunique())\n",
    "print (ofo_trips['Bike ID'].nunique())\n",
    "print (zagster_trips['Bike ID'].nunique())"
   ]
  },
  {
   "cell_type": "markdown",
   "metadata": {},
   "source": [
    "### Visual Plotting"
   ]
  },
  {
   "cell_type": "code",
   "execution_count": null,
   "metadata": {},
   "outputs": [],
   "source": [
    "def plotting_lat_long(x_axis,y_axis, dataframe):\n",
    "    '''\n",
    "    Given an x (latitude) and y (longitude) axis, and the dataframe,\n",
    "        plots a distribution of those latitude and longitude points\n",
    "    '''\n",
    "    plt.figure(figsize=(8,8))\n",
    "    sns.jointplot( x = x_axis, y = y_axis, data = dataframe )\n",
    "    plt.show()\n",
    "    plt.close()"
   ]
  },
  {
   "cell_type": "code",
   "execution_count": null,
   "metadata": {},
   "outputs": [],
   "source": [
    "print ('LIME TRIPS LATITUDE & LONGITUDE DISTRIBUTION \\n')\n",
    "plotting_lat_long('START_LATITUDE', 'START_LONGITUDE', lime_trips[['START_LATITUDE','START_LONGITUDE']]) \n",
    "plotting_lat_long('END_LATITUDE', 'END_LONGITUDE', lime_trips[['END_LATITUDE','END_LONGITUDE']]) "
   ]
  },
  {
   "cell_type": "code",
   "execution_count": null,
   "metadata": {},
   "outputs": [],
   "source": [
    "print ('OFO TRIPS LATITUDE & LONGITUDE DISTRIBUTION \\n')\n",
    "plotting_lat_long('From Latitude', 'From Longitude', ofo_trips[['From Latitude','From Longitude']]) \n",
    "plotting_lat_long('To Latitude', 'To Longitude', ofo_trips[['To Latitude','To Longitude']]) "
   ]
  },
  {
   "cell_type": "code",
   "execution_count": null,
   "metadata": {},
   "outputs": [],
   "source": [
    "print ('ZAGSTER TRIPS LATITUDE & LONGITUDE DISTRIBUTION \\n')\n",
    "plotting_lat_long('From Latitude', 'From Longitude', zagster_trips[['From Latitude','From Longitude']]) \n",
    "plotting_lat_long('To Latitude', 'To Longitude', zagster_trips[['To Latitude','To Longitude']]) "
   ]
  }
 ],
 "metadata": {
  "kernelspec": {
   "display_name": "Python 3",
   "language": "python",
   "name": "python3"
  },
  "language_info": {
   "codemirror_mode": {
    "name": "ipython",
    "version": 3
   },
   "file_extension": ".py",
   "mimetype": "text/x-python",
   "name": "python",
   "nbconvert_exporter": "python",
   "pygments_lexer": "ipython3",
   "version": "3.6.3"
  }
 },
 "nbformat": 4,
 "nbformat_minor": 2
}
