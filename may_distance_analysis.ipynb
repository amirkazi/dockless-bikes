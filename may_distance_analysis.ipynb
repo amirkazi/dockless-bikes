{
 "cells": [
  {
   "cell_type": "markdown",
   "metadata": {},
   "source": [
    "### Using Data for May"
   ]
  },
  {
   "cell_type": "code",
   "execution_count": null,
   "metadata": {},
   "outputs": [],
   "source": [
    "import pandas as pd\n"
   ]
  },
  {
   "cell_type": "code",
   "execution_count": null,
   "metadata": {},
   "outputs": [],
   "source": [
    "def read_csv (input_file):\n",
    "    '''\n",
    "    Reads CSV file and returns pandas dataframe\n",
    "    '''\n",
    "    return pd.read_csv(input_file)"
   ]
  },
  {
   "cell_type": "code",
   "execution_count": null,
   "metadata": {},
   "outputs": [],
   "source": [
    "lime_customer = read_csv('Lime_May Customer Report.csv')\n",
    "lime_maintenance = read_csv('Lime_May Maintenance.csv')\n",
    "lime_trips = read_csv('Lime_May Trips.csv')\n",
    "\n",
    "ofo_customer = read_csv('ofo-reports-06112018.csv')\n",
    "ofo_maintenance = read_csv('ofo-maintenance-06112018.csv')\n",
    "ofo_trips = read_csv('ofo-trips-06112018.csv')\n",
    "\n",
    "\n",
    "zagster_customer = read_csv('zagster-reports-201805.csv')\n",
    "zagster_maintenance = read_csv('zagster-maintenance-201805.csv')\n",
    "zagster_trips = read_csv('zagster-trips-201805.csv')"
   ]
  },
  {
   "cell_type": "markdown",
   "metadata": {},
   "source": [
    "### AVERAGE BIKE RIDE IN FEET"
   ]
  },
  {
   "cell_type": "code",
   "execution_count": null,
   "metadata": {},
   "outputs": [],
   "source": [
    "# Average distance (in feet) of each bike ride by company\n",
    "print ('Average feet distance of trip by lime :', lime_trips['DISTANCE_FEET'].mean())\n",
    "print ('Average feet distance of trip by ofo :',ofo_trips['Trip Distance'].mean())\n",
    "print ('Average feet distance of trip by zagster :', zagster_trips['Trip Distance'].mean())"
   ]
  },
  {
   "cell_type": "markdown",
   "metadata": {},
   "source": [
    "### MEDIAN BIKE RIDE IN FEET"
   ]
  },
  {
   "cell_type": "code",
   "execution_count": null,
   "metadata": {},
   "outputs": [],
   "source": [
    "print ('MEDIAN DISTANCE OF LIME (ABOVE ZERO FEET): ', lime_trips['DISTANCE_FEET'].median())\n",
    "print ('MEDIAN DISTANCE OF ofo (ABOVE ZERO FEET): ', ofo_trips['Trip Distance'].median())\n",
    "print ('MEDIAN DISTANCE OF ZAGSTER (ABOVE ZERO FEET): ', zagster_trips['Trip Distance'].median())"
   ]
  },
  {
   "cell_type": "markdown",
   "metadata": {},
   "source": [
    "### AVERAGE DISTANCE WHEN RIDES OF LENGTH 0 FEET IGNORED:"
   ]
  },
  {
   "cell_type": "code",
   "execution_count": null,
   "metadata": {},
   "outputs": [],
   "source": [
    "lime_x = lime_trips[lime_trips['DISTANCE_FEET'] != 0]\n",
    "lime_x = lime_x['DISTANCE_FEET'].mean()\n",
    "\n",
    "ofo_x = ofo_trips[ofo_trips['Trip Distance'] != 0]\n",
    "ofo_x = ofo_x['Trip Distance'].mean()\n",
    "\n",
    "zagster_x = zagster_trips[zagster_trips['Trip Distance'] != 0 ]\n",
    "zagster_x = zagster_x['Trip Distance'].mean()\n",
    "\n",
    "\n",
    "print ('AVERAGE DISTANCE OF LIME (ABOVE ZERO FEET): ', lime_x)\n",
    "print ('AVERAGE DISTANCE OF ofo (ABOVE ZERO FEET): ', ofo_x)\n",
    "print ('AVERAGE DISTANCE OF zagster (ABOVE ZERO FEET): ', zagster_x)"
   ]
  },
  {
   "cell_type": "markdown",
   "metadata": {},
   "source": [
    "### MEDIAN DISTANCE WHEN RIDES OF LENGTH 0 FEET IGNORED:"
   ]
  },
  {
   "cell_type": "code",
   "execution_count": null,
   "metadata": {},
   "outputs": [],
   "source": [
    "lime_x = lime_trips[lime_trips['DISTANCE_FEET'] != 0]\n",
    "lime_x = lime_x['DISTANCE_FEET'].median()\n",
    "\n",
    "ofo_x = ofo_trips[ofo_trips['Trip Distance'] != 0]\n",
    "ofo_x = ofo_x['Trip Distance'].median()\n",
    "\n",
    "zagster_x = zagster_trips[zagster_trips['Trip Distance'] != 0 ]\n",
    "zagster_x = zagster_x['Trip Distance'].median()\n",
    "\n",
    "\n",
    "print ('MEDIAN DISTANCE OF LIME (ABOVE ZERO FEET): ', lime_x)\n",
    "print ('MEDIAN DISTANCE OF ofo (ABOVE ZERO FEET): ', ofo_x)\n",
    "print ('MEDIAN DISTANCE OF zagster (ABOVE ZERO FEET): ', zagster_x)"
   ]
  },
  {
   "cell_type": "markdown",
   "metadata": {},
   "source": [
    "### AVERAGE DISTANCE WHEN RIDES OF ABOVE 50 FEET:"
   ]
  },
  {
   "cell_type": "code",
   "execution_count": null,
   "metadata": {},
   "outputs": [],
   "source": [
    "lime_x = lime_trips[lime_trips['DISTANCE_FEET'] > 50 ]\n",
    "lime_x = lime_x['DISTANCE_FEET'].mean()\n",
    "\n",
    "ofo_x = ofo_trips[ofo_trips['Trip Distance']  > 50]\n",
    "ofo_x = ofo_x['Trip Distance'].mean()\n",
    "\n",
    "zagster_x = zagster_trips[zagster_trips['Trip Distance'] > 50]\n",
    "zagster_x = zagster_x['Trip Distance'].mean()\n",
    "\n",
    "\n",
    "print ('AVERAGE DISTANCE OF LIME (GREATER THAN 50 FEET): ', lime_x)\n",
    "print ('AVERAGE DISTANCE OF ofo (GREATER THAN 50 FEET): ', ofo_x)\n",
    "print ('AVERAGE DISTANCE OF zagster (GREATER THAN 50 FEET): ', zagster_x)"
   ]
  },
  {
   "cell_type": "markdown",
   "metadata": {},
   "source": [
    "### MEDIAN DISTANCE WHEN RIDES OF ABOVE 50 FEET:\n"
   ]
  },
  {
   "cell_type": "code",
   "execution_count": null,
   "metadata": {},
   "outputs": [],
   "source": [
    "lime_x = lime_trips[lime_trips['DISTANCE_FEET'] > 50 ]\n",
    "lime_x = lime_x['DISTANCE_FEET'].median()\n",
    "\n",
    "ofo_x = ofo_trips[ofo_trips['Trip Distance']  > 50]\n",
    "ofo_x = ofo_x['Trip Distance'].median()\n",
    "\n",
    "zagster_x = zagster_trips[zagster_trips['Trip Distance'] > 50]\n",
    "zagster_x = zagster_x['Trip Distance'].median()\n",
    "\n",
    "\n",
    "print ('MEDIAN DISTANCE OF LIME (GREATER THAN 50 FEET): ', lime_x)\n",
    "print ('MEDIAN DISTANCE OF ofo (GREATER THAN 50 FEET): ', ofo_x)\n",
    "print ('MEDIAN DISTANCE OF zagster (GREATER THAN 50 FEET): ', zagster_x)"
   ]
  },
  {
   "cell_type": "markdown",
   "metadata": {},
   "source": [
    "### AVERAGE DISTANCE WHEN RIDES OF ABOVE 1320 FEET (QUARTER MILE):\n"
   ]
  },
  {
   "cell_type": "code",
   "execution_count": null,
   "metadata": {
    "scrolled": true
   },
   "outputs": [],
   "source": [
    "lime_x = lime_trips[lime_trips['DISTANCE_FEET'] > 1320 ]\n",
    "lime_x = lime_x['DISTANCE_FEET'].mean()\n",
    "\n",
    "ofo_x = ofo_trips[ofo_trips['Trip Distance']  > 1320]\n",
    "ofo_x = ofo_x['Trip Distance'].mean()\n",
    "\n",
    "zagster_x = zagster_trips[zagster_trips['Trip Distance'] > 1320]\n",
    "zagster_x = zagster_x['Trip Distance'].mean()\n",
    "\n",
    "\n",
    "print ('AVERAGE DISTANCE OF LIME (GREATER THAN 1320 FEET): ', lime_x)\n",
    "print ('AVERAGE DISTANCE OF ofo (GREATER THAN 1320 FEET): ', ofo_x)\n",
    "print ('AVERAGE DISTANCE OF zagster (GREATER THAN 1320 FEET): ', zagster_x)"
   ]
  },
  {
   "cell_type": "markdown",
   "metadata": {},
   "source": [
    "### MEDIAN DISTANCE WHEN RIDES OF ABOVE 1320 FEET (QUARTER MILE):\n"
   ]
  },
  {
   "cell_type": "code",
   "execution_count": null,
   "metadata": {},
   "outputs": [],
   "source": [
    "lime_x = lime_trips[lime_trips['DISTANCE_FEET'] > 1320 ]\n",
    "lime_x = lime_x['DISTANCE_FEET'].median()\n",
    "\n",
    "ofo_x = ofo_trips[ofo_trips['Trip Distance']  > 1320]\n",
    "ofo_x = ofo_x['Trip Distance'].median()\n",
    "\n",
    "zagster_x = zagster_trips[zagster_trips['Trip Distance'] > 1320]\n",
    "zagster_x = zagster_x['Trip Distance'].median()\n",
    "\n",
    "\n",
    "print ('MEDIAN DISTANCE OF LIME (GREATER THAN 1320 FEET): ', lime_x)\n",
    "print ('MEDIAN DISTANCE OF ofo (GREATER THAN 1320 FEET): ', ofo_x)\n",
    "print ('MEDIAN DISTANCE OF zagster (GREATER THAN 1320 FEET): ', zagster_x)"
   ]
  }
 ],
 "metadata": {
  "kernelspec": {
   "display_name": "Python 3",
   "language": "python",
   "name": "python3"
  },
  "language_info": {
   "codemirror_mode": {
    "name": "ipython",
    "version": 3
   },
   "file_extension": ".py",
   "mimetype": "text/x-python",
   "name": "python",
   "nbconvert_exporter": "python",
   "pygments_lexer": "ipython3",
   "version": "3.6.3"
  }
 },
 "nbformat": 4,
 "nbformat_minor": 2
}
